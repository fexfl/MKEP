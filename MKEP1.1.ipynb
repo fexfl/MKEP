{
 "cells": [
  {
   "cell_type": "code",
   "execution_count": 1,
   "id": "6f1046e9",
   "metadata": {},
   "outputs": [],
   "source": [
    "import numpy as np\n",
    "import scipy.constants as sc"
   ]
  },
  {
   "cell_type": "code",
   "execution_count": 2,
   "id": "117cf304",
   "metadata": {},
   "outputs": [],
   "source": [
    "karman = 100000 #m\n",
    "def volkugel(r):\n",
    "    return 4/3 * np.pi * r**3"
   ]
  },
  {
   "cell_type": "code",
   "execution_count": 5,
   "id": "3bfd06ff",
   "metadata": {},
   "outputs": [
    {
     "name": "stdout",
     "output_type": "stream",
     "text": [
      "5040400123818192.0 m^3\n"
     ]
    }
   ],
   "source": [
    "r_earth =  6.371 * 1000\n",
    "vol_outer = volkugel(r_earth + karman)\n",
    "vol_inner = volkugel(r_earth)\n",
    "vol_kugelschale = vol_outer - vol_inner\n",
    "print(vol_kugelschale , \"m^3\")"
   ]
  },
  {
   "cell_type": "code",
   "execution_count": 18,
   "id": "5b9b1d37",
   "metadata": {},
   "outputs": [
    {
     "name": "stdout",
     "output_type": "stream",
     "text": [
      "248.14999999999998\n",
      "1.5034320213502779e-06\n",
      "0.0014030886182534949\n"
     ]
    }
   ],
   "source": [
    "M_mol_air = 28.949 / 1000 # kg/mol\n",
    "T = -25 + 273.15\n",
    "print(T)\n",
    "p0 = 101325\n",
    "def rho(p0, M, g, R, T, del_h):\n",
    "    return (p0 * M * np.e**(-(M*g*del_h)/(R*T)))/(R * T)\n",
    "def rhosimple(p, M, R, T):\n",
    "    return (p * M / (R * T))\n",
    "\n",
    "rho_air = rho(p0, M_mol_air, sc.g, sc.R, T, karman)\n",
    "rho_air_simple = rhosimple(10**2, M_mol_air, sc.R, T)\n",
    "print(rho_air)\n",
    "print(rho_air_simple)"
   ]
  },
  {
   "cell_type": "code",
   "execution_count": 21,
   "id": "5537d6e1",
   "metadata": {},
   "outputs": [
    {
     "name": "stdout",
     "output_type": "stream",
     "text": [
      "7.0721280451728115\n"
     ]
    }
   ],
   "source": [
    "m_air = vol_kugelschale * rho_air_simple\n",
    "print(m_air * 10**(-12))"
   ]
  },
  {
   "cell_type": "code",
   "execution_count": 24,
   "id": "4eff6563",
   "metadata": {},
   "outputs": [
    {
     "name": "stdout",
     "output_type": "stream",
     "text": [
      "244.2961085071267\n"
     ]
    }
   ],
   "source": [
    "n_air = m_air / M_mol_air\n",
    "print(n_air * 10**(-12))"
   ]
  },
  {
   "cell_type": "code",
   "execution_count": 25,
   "id": "7c5de8f7",
   "metadata": {},
   "outputs": [
    {
     "name": "stdout",
     "output_type": "stream",
     "text": [
      "1.4711855525501503e+38\n"
     ]
    }
   ],
   "source": [
    "molecules = n_air * sc.N_A\n",
    "print(molecules)"
   ]
  },
  {
   "cell_type": "code",
   "execution_count": 27,
   "id": "2a3a1fa5",
   "metadata": {},
   "outputs": [
    {
     "name": "stdout",
     "output_type": "stream",
     "text": [
      "350.0\n"
     ]
    }
   ],
   "source": [
    "# b)\n",
    "oberfläche_wasser = 350000000 *(1000)**2\n",
    "delta_h = 1000 #m\n",
    "vol_wasser = oberfläche_wasser * delta_h\n",
    "print(vol_wasser * 10**(-15))"
   ]
  },
  {
   "cell_type": "code",
   "execution_count": 30,
   "id": "0f26672d",
   "metadata": {},
   "outputs": [
    {
     "name": "stdout",
     "output_type": "stream",
     "text": [
      "4255.24\n"
     ]
    }
   ],
   "source": [
    "c_h20 = 4.18 * 1.018 * 1000 # J/kgK\n",
    "print(c_h20)"
   ]
  },
  {
   "cell_type": "code",
   "execution_count": 34,
   "id": "112aec3e",
   "metadata": {},
   "outputs": [
    {
     "name": "stdout",
     "output_type": "stream",
     "text": [
      "1025.0\n",
      "3.5875e+20\n",
      "1.52656735e+24\n"
     ]
    }
   ],
   "source": [
    "rho_sw = 1.025 * 1000 #kg / m^3\n",
    "print(rho_sw)\n",
    "m_sw = rho_sw * vol_wasser\n",
    "print(m_sw)\n",
    "C_sw = c_h20 * m_sw\n",
    "print(C_sw)"
   ]
  },
  {
   "cell_type": "code",
   "execution_count": 37,
   "id": "580ae1bb",
   "metadata": {},
   "outputs": [
    {
     "name": "stdout",
     "output_type": "stream",
     "text": [
      "7.142849325624541\n"
     ]
    }
   ],
   "source": [
    "c_air = 1010 # J/kgK\n",
    "print(m_air * c_air * 10**(-15))"
   ]
  },
  {
   "cell_type": "code",
   "execution_count": 43,
   "id": "c9982ef7",
   "metadata": {},
   "outputs": [
    {
     "name": "stdout",
     "output_type": "stream",
     "text": [
      "5452026250.0\n",
      "172.8826182775241\n"
     ]
    }
   ],
   "source": [
    "# c)\n",
    "t_heat = C_sw * 1 / (0.8 * oberfläche_wasser)\n",
    "print(t_heat)\n",
    "print(t_heat / 60 / 60 / 24 /365)"
   ]
  },
  {
   "cell_type": "code",
   "execution_count": null,
   "id": "19ed7554",
   "metadata": {},
   "outputs": [],
   "source": []
  }
 ],
 "metadata": {
  "kernelspec": {
   "display_name": "Python 3",
   "language": "python",
   "name": "python3"
  },
  "language_info": {
   "codemirror_mode": {
    "name": "ipython",
    "version": 3
   },
   "file_extension": ".py",
   "mimetype": "text/x-python",
   "name": "python",
   "nbconvert_exporter": "python",
   "pygments_lexer": "ipython3",
   "version": "3.8.8"
  }
 },
 "nbformat": 4,
 "nbformat_minor": 5
}
